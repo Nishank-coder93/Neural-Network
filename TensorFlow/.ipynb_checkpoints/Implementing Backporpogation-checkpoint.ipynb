{
 "cells": [
  {
   "cell_type": "code",
   "execution_count": 1,
   "metadata": {
    "collapsed": true
   },
   "outputs": [],
   "source": [
    "import itertools\n",
    "import numpy as np \n",
    "import tensorflow as tf\n",
    "from sklearn.metrics import confusion_matrix\n",
    "import matplotlib.pyplot as plt\n",
    "\n",
    "%matplotlib inline"
   ]
  },
  {
   "cell_type": "markdown",
   "metadata": {},
   "source": [
    "- One of the benefits of using TensorFlow is that it can keep track of it's operations and automatically update model variables\n",
    "- Let's see how to change our model variables in such a way that loss function is minimized \n",
    "- Backpropogate errors through our computational graph to update our variable and minimize the loss function, this is done by declaring an optimize function "
   ]
  },
  {
   "cell_type": "code",
   "execution_count": 209,
   "metadata": {
    "collapsed": true
   },
   "outputs": [],
   "source": [
    "sess = tf.Session()"
   ]
  },
  {
   "cell_type": "code",
   "execution_count": 210,
   "metadata": {
    "collapsed": true
   },
   "outputs": [],
   "source": [
    "def plot_confusion_matrix(cm, classes,\n",
    "                          normalize=False,\n",
    "                          title='Confusion matrix',\n",
    "                          cmap=plt.cm.Blues):\n",
    "    \"\"\"\n",
    "    This function prints and plots the confusion matrix.\n",
    "    Normalization can be applied by setting `normalize=True`.\n",
    "    \"\"\"\n",
    "    if normalize:\n",
    "        cm = cm.astype('float') / cm.sum(axis=1)[:, np.newaxis]\n",
    "        print(\"Normalized confusion matrix\")\n",
    "    else:\n",
    "        print('Confusion matrix, without normalization')\n",
    "\n",
    "    print(cm)\n",
    "\n",
    "    plt.imshow(cm, interpolation='nearest', cmap=cmap)\n",
    "    plt.title(title)\n",
    "    plt.colorbar()\n",
    "    tick_marks = np.arange(len(classes))\n",
    "    plt.xticks(tick_marks, classes, rotation=45)\n",
    "    plt.yticks(tick_marks, classes)\n",
    "\n",
    "    fmt = '.2f' if normalize else 'd'\n",
    "    thresh = cm.max() / 2.\n",
    "    for i, j in itertools.product(range(cm.shape[0]), range(cm.shape[1])):\n",
    "        plt.text(j, i, format(cm[i, j], fmt),\n",
    "                 horizontalalignment=\"center\",\n",
    "                 color=\"white\" if cm[i, j] > thresh else \"black\")\n",
    "\n",
    "    plt.tight_layout()\n",
    "    plt.ylabel('True label')\n",
    "    plt.xlabel('Predicted label')"
   ]
  },
  {
   "cell_type": "code",
   "execution_count": 211,
   "metadata": {},
   "outputs": [
    {
     "name": "stdout",
     "output_type": "stream",
     "text": [
      "Extracting MNIST_data/train-images-idx3-ubyte.gz\n",
      "Extracting MNIST_data/train-labels-idx1-ubyte.gz\n",
      "Extracting MNIST_data/t10k-images-idx3-ubyte.gz\n",
      "Extracting MNIST_data/t10k-labels-idx1-ubyte.gz\n"
     ]
    }
   ],
   "source": [
    "# Loading the MNIST Dataset\n",
    "\n",
    "from tensorflow.examples.tutorials.mnist import input_data\n",
    "mnist = input_data.read_data_sets(\"MNIST_data/\",one_hot=True)"
   ]
  },
  {
   "cell_type": "code",
   "execution_count": 237,
   "metadata": {},
   "outputs": [
    {
     "name": "stdout",
     "output_type": "stream",
     "text": [
      "44000\n"
     ]
    }
   ],
   "source": [
    "from sklearn.model_selection import train_test_split\n",
    "# self.X_train,self.x_test,self.Y_train,self.y_test\n",
    "X_train,x_test,Y_train,y_test = train_test_split(mnist.train.images,mnist.train.labels,test_size=0.2)\n",
    "print(len(X_train))"
   ]
  },
  {
   "cell_type": "code",
   "execution_count": 212,
   "metadata": {},
   "outputs": [
    {
     "name": "stdout",
     "output_type": "stream",
     "text": [
      "55000\n",
      "10000\n",
      "5000\n",
      "[ 0.  0.  0.  1.  0.  0.  0.  0.  0.  0.]\n"
     ]
    }
   ],
   "source": [
    "print(len(mnist.train.images))\n",
    "print(len(mnist.test.images))\n",
    "print(len(mnist.validation.images))\n",
    "print(mnist.train.labels[1,:])"
   ]
  },
  {
   "cell_type": "code",
   "execution_count": 213,
   "metadata": {
    "collapsed": true
   },
   "outputs": [],
   "source": [
    "# Optimization variables \n",
    "learning_rate = 0.5\n",
    "epochs = 10\n",
    "batch_size = 100\n",
    "hidden_layer_nodes = 300"
   ]
  },
  {
   "cell_type": "code",
   "execution_count": 214,
   "metadata": {
    "collapsed": true
   },
   "outputs": [],
   "source": [
    "# Declaring the training data placeholder\n",
    "# input x - for 28 X 28 pixels = 784\n",
    "\n",
    "x = tf.placeholder(tf.float32, shape = [None,784])\n",
    "\n",
    "# Declare the output data placeholder - 10 digits\n",
    "\n",
    "y = tf.placeholder(tf.float32, [None, 10])"
   ]
  },
  {
   "cell_type": "markdown",
   "metadata": {},
   "source": [
    "For below Code\n",
    "- first we declare variables w1 and b1 the weights and bias for connection between input and hidden layer\n",
    "- The hidden neural network has about 300 (default) layers of nodes \n",
    "- Therefore the size of weight 1 tensor is [784 - Rows, 300 - Cols]\n",
    "- We initialized the value of weights using random normal distribution with mean of zero and stddev of 0.03\n",
    "- Like wise we created W2 and b2 with 10 output nodes "
   ]
  },
  {
   "cell_type": "code",
   "execution_count": 215,
   "metadata": {
    "collapsed": true
   },
   "outputs": [],
   "source": [
    "# Setting up Weights and Bias variable for Three layer Neural Network\n",
    "# There are always L-1 number of weights and Bias tensors where L is the number of Layers \n",
    "\n",
    "# Declaring weights and Bias connecting the input to the Hidden Layer \n",
    "W1 = tf.Variable(tf.random_normal([784, hidden_layer_nodes], stddev=0.03), name='W1')\n",
    "b1 = tf.Variable(tf.random_normal([hidden_layer_nodes]), name= 'b1')\n",
    "\n",
    "# and the weights connecting the Hidden Layer to the ouput layer\n",
    "W2 = tf.Variable(tf.random_normal([hidden_layer_nodes,10], stddev=0.03), name='W2')\n",
    "b2 = tf.Variable(tf.random_normal([10]), name= 'b2')"
   ]
  },
  {
   "cell_type": "markdown",
   "metadata": {},
   "source": [
    "- First we'll execute the standard Matrix multiplication of inputs with weights 1 and add bias b1 to it\n",
    "- net_worth = (Ax + b)\n",
    "- Then we apply the activation function (ReLU Rectified Linear Unit) to the net_worth\n",
    "- activation_function(net_worth)"
   ]
  },
  {
   "cell_type": "code",
   "execution_count": 216,
   "metadata": {
    "collapsed": true
   },
   "outputs": [],
   "source": [
    "# Next we setup the node inputs and and activation function for the hidden layer \n",
    "# Calculate the output of the Hidden Layer \n",
    "\n",
    "# [ ASSIGNMENT PROBLEM ]\n",
    "# The activation function for Hidden Layer should either RELU or Sigmoid \n",
    "\n",
    "hidden_out_net = tf.add(tf.matmul(x,W1), b1)\n",
    "hidden_out = tf.nn.relu(hidden_out_net)\n",
    "#hidden_out = tf.nn.sigmoid(hidden_out_net)"
   ]
  },
  {
   "cell_type": "code",
   "execution_count": null,
   "metadata": {
    "collapsed": true
   },
   "outputs": [],
   "source": []
  },
  {
   "cell_type": "code",
   "execution_count": 217,
   "metadata": {
    "collapsed": true
   },
   "outputs": [],
   "source": [
    "# Now we set up the output layer \n",
    "# The output from the Hidden layer is the input to the Output Layer \n",
    "# We'll use the softmax activation function for the Output \n",
    "# [ASSIGNMENT PROBLEM] Activation function should be either Softmax or Sigmoid \n",
    "\n",
    "output_layer_net = tf.add(tf.matmul(hidden_out, W2), b2)\n",
    "y_output = tf.nn.softmax(output_layer_net)\n",
    "# y_output = tf.nn.sigmoid(output_layer_net)"
   ]
  },
  {
   "cell_type": "markdown",
   "metadata": {},
   "source": [
    "- we have to include a cost function or loss function for the Optimization / Backpropogation to work on\n",
    "- we'll be using Cross Entropy \n",
    "- The first line is a operation converting the output y_output to a clipped version limited between 1e-10 and 0.999999\n",
    "- This is to ensure we never get a case where we have log(0) operation occuring during training as it would return NaN and break the training "
   ]
  },
  {
   "cell_type": "code",
   "execution_count": 218,
   "metadata": {
    "collapsed": true
   },
   "outputs": [],
   "source": [
    "y_clipped = tf.clip_by_value(y_output, 1e-10, 0.9999999)\n",
    "cross_entropy = -tf.reduce_mean(tf.reduce_sum(y * tf.log(y_clipped) + (1 - y) * tf.log(1 - y_clipped), axis=1))"
   ]
  },
  {
   "cell_type": "code",
   "execution_count": null,
   "metadata": {
    "collapsed": true
   },
   "outputs": [],
   "source": []
  },
  {
   "cell_type": "code",
   "execution_count": 219,
   "metadata": {
    "collapsed": true
   },
   "outputs": [],
   "source": [
    "# Setting up an optimizer\n",
    "\n",
    "optimizer = tf.train.GradientDescentOptimizer(learning_rate=learning_rate).minimize(cross_entropy)"
   ]
  },
  {
   "cell_type": "code",
   "execution_count": 220,
   "metadata": {
    "collapsed": true
   },
   "outputs": [],
   "source": [
    "# setting up initialization operator \n",
    "\n",
    "init_op = tf.global_variables_initializer()\n",
    "\n",
    "# Define an accuracy assesment model\n",
    "# tf.equal returns True or False tf.argmax same as np.argmax returns the index of maximum value in a vector/tensor\n",
    "correct_prediction = tf.equal(tf.argmax(y,1), tf.argmax(y_output,1))\n",
    "accuracy = tf.reduce_mean(tf.cast(correct_prediction, tf.float32))\n"
   ]
  },
  {
   "cell_type": "code",
   "execution_count": 221,
   "metadata": {
    "collapsed": true
   },
   "outputs": [],
   "source": [
    "y_output_arg = tf.argmax(y_output,1)"
   ]
  },
  {
   "cell_type": "code",
   "execution_count": 222,
   "metadata": {
    "collapsed": true
   },
   "outputs": [],
   "source": [
    "def calculate_error_rate(pred_label, true_label):\n",
    "    error_arg = true_label - pred_label \n",
    "    print(\"Error cal: \", error_arg)\n",
    "    \n",
    "    cnt_nonzeroes = np.count_nonzero(error_arg)\n",
    "    cnt_zeroes = len(true_label) - cnt_nonzeroes\n",
    "    error_percent = (cnt_nonzeroes / (cnt_zeroes + cnt_nonzeroes)) * 100\n",
    "    print(\"Percentage error for one epoch :\", error_percent)"
   ]
  },
  {
   "cell_type": "code",
   "execution_count": 223,
   "metadata": {
    "collapsed": true
   },
   "outputs": [],
   "source": [
    "# confusion_matrix = tf.confusion_matrix(labels=y, predictions=y_output, num_classes=10)\n",
    "avg_cost_lst = []\n",
    "class_names = np.arange(0,10)\n",
    "# cmf = confusion_matrix()"
   ]
  },
  {
   "cell_type": "code",
   "execution_count": 224,
   "metadata": {
    "collapsed": true
   },
   "outputs": [],
   "source": [
    "sess.run(init_op)"
   ]
  },
  {
   "cell_type": "code",
   "execution_count": 226,
   "metadata": {},
   "outputs": [
    {
     "name": "stdout",
     "output_type": "stream",
     "text": [
      "Epoch: 1 cost= 0.059\n",
      "Error cal:  [0 0 0 ..., 0 0 0]\n",
      "Percentage error for one epoch : 2.52\n",
      "Epoch: 2 cost= 0.054\n",
      "Error cal:  [0 0 0 ..., 0 0 0]\n",
      "Percentage error for one epoch : 2.59\n",
      "Epoch: 3 cost= 0.046\n",
      "Error cal:  [0 0 0 ..., 0 0 0]\n",
      "Percentage error for one epoch : 2.67\n",
      "Epoch: 4 cost= 0.040\n",
      "Error cal:  [0 0 0 ..., 0 0 0]\n",
      "Percentage error for one epoch : 2.59\n",
      "Epoch: 5 cost= 0.031\n",
      "Error cal:  [0 0 0 ..., 0 0 0]\n",
      "Percentage error for one epoch : 2.41\n",
      "Epoch: 6 cost= 0.028\n",
      "Error cal:  [0 0 0 ..., 0 0 0]\n",
      "Percentage error for one epoch : 2.6\n",
      "Epoch: 7 cost= 0.023\n",
      "Error cal:  [0 0 0 ..., 0 0 0]\n",
      "Percentage error for one epoch : 2.41\n",
      "Epoch: 8 cost= 0.019\n",
      "Error cal:  [0 0 0 ..., 0 0 0]\n",
      "Percentage error for one epoch : 2.29\n",
      "Epoch: 9 cost= 0.015\n",
      "Error cal:  [0 0 0 ..., 0 0 0]\n",
      "Percentage error for one epoch : 2.39\n",
      "Epoch: 10 cost= 0.013\n",
      "Error cal:  [0 0 0 ..., 0 0 0]\n",
      "Percentage error for one epoch : 2.4299999999999997\n",
      "0.9757\n",
      "[7 2 1 ..., 4 5 6]\n",
      "[7 2 1 ..., 4 5 6]\n",
      "[[ 971    0    3    0    5    2    8    1    3    5]\n",
      " [   0 1129    3    1    2    3    4    3    1    5]\n",
      " [   1    2 1007    7    4    0    0    9    1    1]\n",
      " [   0    1    1  994    2   16    1    4    3    3]\n",
      " [   2    0    2    0  946    0    5    2    2    6]\n",
      " [   1    0    1    0    2  850    4    0    1    1]\n",
      " [   2    0    1    0    3    7  934    0    2    1]\n",
      " [   1    1    7    4    0    1    0  998    4    2]\n",
      " [   1    2    7    4    2   11    2    4  952    9]\n",
      " [   1    0    0    0   16    2    0    7    5  976]]\n",
      "Confusion matrix, without normalization\n",
      "[[ 971    0    3    0    5    2    8    1    3    5]\n",
      " [   0 1129    3    1    2    3    4    3    1    5]\n",
      " [   1    2 1007    7    4    0    0    9    1    1]\n",
      " [   0    1    1  994    2   16    1    4    3    3]\n",
      " [   2    0    2    0  946    0    5    2    2    6]\n",
      " [   1    0    1    0    2  850    4    0    1    1]\n",
      " [   2    0    1    0    3    7  934    0    2    1]\n",
      " [   1    1    7    4    0    1    0  998    4    2]\n",
      " [   1    2    7    4    2   11    2    4  952    9]\n",
      " [   1    0    0    0   16    2    0    7    5  976]]\n"
     ]
    },
    {
     "data": {
      "image/png": "[encoded data removed]",
      "text/plain": [
       "<matplotlib.figure.Figure at 0x11ec62438>"
      ]
     },
     "metadata": {},
     "output_type": "display_data"
    }
   ],
   "source": [
    "\n",
    "total_batch = int(len(mnist.train.labels) / batch_size)\n",
    "y_t_cm_arg = sess.run(tf.argmax(mnist.test.labels,1))\n",
    "    \n",
    "for epoch in range(epochs):\n",
    "    avg_cost = 0\n",
    "        \n",
    "    for i in range(total_batch):\n",
    "        batch_x, batch_y = mnist.train.next_batch(batch_size=batch_size)\n",
    "        _,c = sess.run([optimizer, cross_entropy], feed_dict={x: batch_x, y: batch_y})\n",
    "            \n",
    "        avg_cost += c / total_batch\n",
    "        \n",
    "    avg_cost_lst.append(avg_cost)\n",
    "    print(\"Epoch:\", (epoch + 1), \"cost=\", \"{:.3f}\".format(avg_cost))\n",
    "    y_out_epoch = sess.run(y_output_arg, feed_dict={x: mnist.test.images, y: mnist.test.labels})\n",
    "    calculate_error_rate(y_out_epoch,y_t_cm_arg)\n",
    "#         print(\"Accuracy for Epoch:\", (epoch + 1), \"is \", sess.run(accuracy, feed_dict={x: mnist.test.images, y: mnist.test.labels}) )\n",
    "print(sess.run(accuracy, feed_dict={x: mnist.test.images, y: mnist.test.labels}))\n",
    "y_out_cm_arg = sess.run(y_output_arg, feed_dict={x: mnist.test.images, y: mnist.test.labels})\n",
    "print(y_out_cm_arg)\n",
    "print(y_t_cm_arg)\n",
    "cmf_val = confusion_matrix(y_out_cm_arg, y_t_cm_arg)\n",
    "print(cmf_val)\n",
    "plot_confusion_matrix(cmf_val, classes=class_names, title='Confusion matrix, without normalization')"
   ]
  },
  {
   "cell_type": "code",
   "execution_count": 201,
   "metadata": {},
   "outputs": [
    {
     "name": "stdout",
     "output_type": "stream",
     "text": [
      "Epoch: 1 cost= 0.704\n",
      "Error cal:  [0 0 0 ..., 0 0 0]\n",
      "Percentage error for one epoch : 6.460000000000001\n",
      "Epoch: 2 cost= 0.259\n",
      "Error cal:  [0 0 0 ..., 0 0 0]\n",
      "Percentage error for one epoch : 4.6\n",
      "Epoch: 3 cost= 0.195\n",
      "Error cal:  [0 0 0 ..., 0 0 0]\n",
      "Percentage error for one epoch : 3.81\n",
      "Epoch: 4 cost= 0.163\n",
      "Error cal:  [0 0 0 ..., 0 0 0]\n",
      "Percentage error for one epoch : 2.98\n",
      "Epoch: 5 cost= 0.135\n",
      "Error cal:  [0 0 0 ..., 0 0 0]\n",
      "Percentage error for one epoch : 2.68\n",
      "Epoch: 6 cost= 0.122\n",
      "Error cal:  [0 0 0 ..., 0 0 0]\n",
      "Percentage error for one epoch : 2.71\n",
      "Epoch: 7 cost= 0.101\n",
      "Error cal:  [0 0 0 ..., 0 0 0]\n",
      "Percentage error for one epoch : 4.53\n",
      "Epoch: 8 cost= 0.090\n",
      "Error cal:  [0 0 0 ..., 0 0 0]\n",
      "Percentage error for one epoch : 3.11\n",
      "Epoch: 9 cost= 0.081\n",
      "Error cal:  [0 0 0 ..., 0 0 0]\n",
      "Percentage error for one epoch : 2.64\n",
      "Epoch: 10 cost= 0.071\n",
      "Error cal:  [0 0 0 ..., 0 0 0]\n",
      "Percentage error for one epoch : 2.7199999999999998\n",
      "0.9728\n",
      "[7 2 1 ..., 4 5 6]\n",
      "[7 2 1 ..., 4 5 6]\n",
      "[[ 975    0    5    3    1    4   13    3    6    6]\n",
      " [   1 1126    5    0    0    0    4    3    2    3]\n",
      " [   1    3 1009    5    4    0    1    6    9    0]\n",
      " [   1    0    1  982    0   19    1    4    4    6]\n",
      " [   1    0    3    0  960    2    3    0    7   13]\n",
      " [   0    1    0    3    0  838    3    0    0    3]\n",
      " [   0    2    0    0    1    8  930    0    3    0]\n",
      " [   0    0    7    7    3    1    0 1004    3    5]\n",
      " [   0    3    2    9    0   16    2    1  935    4]\n",
      " [   1    0    0    1   13    4    1    7    5  969]]\n",
      "Confusion matrix, without normalization\n",
      "[[ 975    0    5    3    1    4   13    3    6    6]\n",
      " [   1 1126    5    0    0    0    4    3    2    3]\n",
      " [   1    3 1009    5    4    0    1    6    9    0]\n",
      " [   1    0    1  982    0   19    1    4    4    6]\n",
      " [   1    0    3    0  960    2    3    0    7   13]\n",
      " [   0    1    0    3    0  838    3    0    0    3]\n",
      " [   0    2    0    0    1    8  930    0    3    0]\n",
      " [   0    0    7    7    3    1    0 1004    3    5]\n",
      " [   0    3    2    9    0   16    2    1  935    4]\n",
      " [   1    0    0    1   13    4    1    7    5  969]]\n"
     ]
    },
    {
     "data": {
      "image/png": "[encoded data removed]",
      "text/plain": [
       "<matplotlib.figure.Figure at 0x11f397f60>"
      ]
     },
     "metadata": {},
     "output_type": "display_data"
    }
   ],
   "source": [
    "with tf.Session() as sess:\n",
    "    #initialize the variables\n",
    "    sess.run(init_op)\n",
    "    total_batch = int(len(mnist.train.labels) / batch_size)\n",
    "    y_t_cm_arg = sess.run(tf.argmax(mnist.test.labels,1))\n",
    "    \n",
    "    for epoch in range(epochs):\n",
    "        avg_cost = 0\n",
    "        \n",
    "        for i in range(total_batch):\n",
    "            batch_x, batch_y = mnist.train.next_batch(batch_size=batch_size)\n",
    "            _,c = sess.run([optimizer, cross_entropy], feed_dict={x: batch_x, y: batch_y})\n",
    "            \n",
    "            avg_cost += c / total_batch\n",
    "        \n",
    "        avg_cost_lst.append(avg_cost)\n",
    "        print(\"Epoch:\", (epoch + 1), \"cost=\", \"{:.3f}\".format(avg_cost))\n",
    "        y_out_epoch = sess.run(y_output_arg, feed_dict={x: mnist.test.images, y: mnist.test.labels})\n",
    "        calculate_error_rate(y_out_epoch,y_t_cm_arg)\n",
    "#         print(\"Accuracy for Epoch:\", (epoch + 1), \"is \", sess.run(accuracy, feed_dict={x: mnist.test.images, y: mnist.test.labels}) )\n",
    "    print(sess.run(accuracy, feed_dict={x: mnist.test.images, y: mnist.test.labels}))\n",
    "    y_out_cm_arg = sess.run(y_output_arg, feed_dict={x: mnist.test.images, y: mnist.test.labels})\n",
    "    print(y_out_cm_arg)\n",
    "    print(y_t_cm_arg)\n",
    "    cmf_val = confusion_matrix(y_out_cm_arg, y_t_cm_arg)\n",
    "    print(cmf_val)\n",
    "    plot_confusion_matrix(cmf_val, classes=class_names, title='Confusion matrix, without normalization')"
   ]
  },
  {
   "cell_type": "code",
   "execution_count": 227,
   "metadata": {},
   "outputs": [
    {
     "data": {
      "text/plain": [
       "[0.69342084662480674,\n",
       " 0.26637666387314191,\n",
       " 0.19771036427468072,\n",
       " 0.16402332232418373,\n",
       " 0.13486352372914545,\n",
       " 0.11620827405798163,\n",
       " 0.099087640880183805,\n",
       " 0.090431055024435505,\n",
       " 0.078980924516323561,\n",
       " 0.068772897344844555,\n",
       " 0.05882743807467207,\n",
       " 0.054005268015475401,\n",
       " 0.046137390304780097,\n",
       " 0.040266484776935098,\n",
       " 0.030932953474641034,\n",
       " 0.027638354766690625,\n",
       " 0.023181929661183286,\n",
       " 0.01945278114808555,\n",
       " 0.014677540855958465,\n",
       " 0.012749883106523408]"
      ]
     },
     "execution_count": 227,
     "metadata": {},
     "output_type": "execute_result"
    }
   ],
   "source": [
    "avg_cost_lst"
   ]
  },
  {
   "cell_type": "code",
   "execution_count": 230,
   "metadata": {
    "collapsed": true
   },
   "outputs": [],
   "source": [
    "x_plt = np.arange(1,len(avg_cost_lst)+1)"
   ]
  },
  {
   "cell_type": "code",
   "execution_count": 231,
   "metadata": {},
   "outputs": [
    {
     "data": {
      "text/plain": [
       "[<matplotlib.lines.Line2D at 0x11fa540f0>]"
      ]
     },
     "execution_count": 231,
     "metadata": {},
     "output_type": "execute_result"
    },
    {
     "data": {
      "image/png": "[encoded data removed]",
      "text/plain": [
       "<matplotlib.figure.Figure at 0x11f63b860>"
      ]
     },
     "metadata": {},
     "output_type": "display_data"
    }
   ],
   "source": [
    "plt.plot(x_plt,avg_cost_lst)"
   ]
  },
  {
   "cell_type": "code",
   "execution_count": 155,
   "metadata": {},
   "outputs": [
    {
     "name": "stdout",
     "output_type": "stream",
     "text": [
      "0.098\n",
      "[0 0 0 ..., 0 0 0]\n",
      "[7 2 1 ..., 4 5 6]\n",
      "[[ 980    0    0    0    0    0    0    0    0    0]\n",
      " [1135    0    0    0    0    0    0    0    0    0]\n",
      " [1032    0    0    0    0    0    0    0    0    0]\n",
      " [1010    0    0    0    0    0    0    0    0    0]\n",
      " [ 982    0    0    0    0    0    0    0    0    0]\n",
      " [ 892    0    0    0    0    0    0    0    0    0]\n",
      " [ 958    0    0    0    0    0    0    0    0    0]\n",
      " [1028    0    0    0    0    0    0    0    0    0]\n",
      " [ 974    0    0    0    0    0    0    0    0    0]\n",
      " [1009    0    0    0    0    0    0    0    0    0]]\n",
      "Confusion matrix, without normalization\n",
      "[[ 980    0    0    0    0    0    0    0    0    0]\n",
      " [1135    0    0    0    0    0    0    0    0    0]\n",
      " [1032    0    0    0    0    0    0    0    0    0]\n",
      " [1010    0    0    0    0    0    0    0    0    0]\n",
      " [ 982    0    0    0    0    0    0    0    0    0]\n",
      " [ 892    0    0    0    0    0    0    0    0    0]\n",
      " [ 958    0    0    0    0    0    0    0    0    0]\n",
      " [1028    0    0    0    0    0    0    0    0    0]\n",
      " [ 974    0    0    0    0    0    0    0    0    0]\n",
      " [1009    0    0    0    0    0    0    0    0    0]]\n"
     ]
    },
    {
     "data": {
      "image/png": "[encoded data removed]",
      "text/plain": [
       "<matplotlib.figure.Figure at 0x121a83908>"
      ]
     },
     "metadata": {},
     "output_type": "display_data"
    }
   ],
   "source": [
    "class_names = np.arange(0,10)\n",
    "with tf.Session() as sess:\n",
    "    sess.run(init_op)\n",
    "    print(sess.run(accuracy, feed_dict={x: mnist.test.images, y: mnist.test.labels}))\n",
    "    y_ = sess.run(y_output, feed_dict={x: mnist.test.images, y: mnist.test.labels})\n",
    "#     print(sess.run(tf.contrib.metrics.confusion_matrix(labels=mnist.test.labels,predictions=y_)))\n",
    "    y_arg = sess.run(tf.argmax(y_,1))\n",
    "    print(y_arg)\n",
    "    y_test_arg = sess.run(tf.argmax(mnist.test.labels, 1))\n",
    "    print(y_test_arg)\n",
    "    cmf = confusion_matrix(y_test_arg, y_arg)\n",
    "    print(cmf)\n",
    "    plot_confusion_matrix(cmf, classes=class_names, title='Confusion matrix, without normalization')"
   ]
  },
  {
   "cell_type": "code",
   "execution_count": null,
   "metadata": {
    "collapsed": true
   },
   "outputs": [],
   "source": []
  }
 ],
 "metadata": {
  "kernelspec": {
   "display_name": "Python 3",
   "language": "python",
   "name": "python3"
  },
  "language_info": {
   "codemirror_mode": {
    "name": "ipython",
    "version": 3
   },
   "file_extension": ".py",
   "mimetype": "text/x-python",
   "name": "python",
   "nbconvert_exporter": "python",
   "pygments_lexer": "ipython3",
   "version": "3.6.3"
  }
 },
 "nbformat": 4,
 "nbformat_minor": 2
}
