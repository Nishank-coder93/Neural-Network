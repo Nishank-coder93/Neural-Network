{
 "cells": [
  {
   "cell_type": "code",
   "execution_count": 91,
   "metadata": {
    "collapsed": true
   },
   "outputs": [],
   "source": [
    "import tensorflow as tf\n",
    "import numpy as np\n",
    "import matplotlib.pyplot as plt\n",
    "\n",
    "%matplotlib inline"
   ]
  },
  {
   "cell_type": "code",
   "execution_count": 92,
   "metadata": {
    "collapsed": true
   },
   "outputs": [],
   "source": [
    "# This creates a computational graph \n",
    "sess = tf.Session()"
   ]
  },
  {
   "cell_type": "markdown",
   "metadata": {},
   "source": [
    "- Declare our Tensors and placeholders\n",
    "- We create numpy array to feed in the data "
   ]
  },
  {
   "cell_type": "code",
   "execution_count": 93,
   "metadata": {},
   "outputs": [
    {
     "name": "stdout",
     "output_type": "stream",
     "text": [
      "3.0\n",
      "9.0\n",
      "12.0\n",
      "15.0\n",
      "21.0\n",
      "27.0\n"
     ]
    }
   ],
   "source": [
    "x_vals = np.array([1,3,4,5,7,9]) # Declaring the np array data \n",
    "x_data = tf.placeholder(tf.float32) # Creating a placeholder for data\n",
    "m_const = tf.constant(3.) # Declaring a constant\n",
    "my_product = tf.multiply(x_data, m_const) # Operation multiplication\n",
    "for x_val in x_vals:\n",
    "    print(sess.run(my_product,feed_dict={x_data:x_val})) # Running the operation with data values "
   ]
  },
  {
   "cell_type": "markdown",
   "metadata": {},
   "source": [
    "### Chaining operations together \n",
    "\n",
    "- Example multiply a placeholder with two matrices and then perform addition\n",
    "- For Placeholders for matrix we have to declare the shape and know the outcome shape \n",
    "- Sometimes we may not know the shape of the outcome for that we write dimesion value as **None**\n",
    "- For Example we don't know certain number of cols \n",
    "    * x_data = tf.placeholder(tf.float32, shape=(3,None))"
   ]
  },
  {
   "cell_type": "code",
   "execution_count": 94,
   "metadata": {
    "collapsed": true
   },
   "outputs": [],
   "source": [
    "# First we create data to feed in and corresponding placeholder\n",
    "\n",
    "my_array = np.array([[1,3,5,7,9],\n",
    "                    [-2,0,2,4,6],\n",
    "                    [-6,-3,0,3,6]])\n",
    "x_vals = np.array([my_array, my_array + 1]) # Two 3X5 numpy array matrix \n",
    "x_data = tf.placeholder(tf.float32, shape=(3, 5)) # Created a placeholder with 3X5 data receiver "
   ]
  },
  {
   "cell_type": "code",
   "execution_count": 95,
   "metadata": {
    "collapsed": true
   },
   "outputs": [],
   "source": [
    "# Next we create constants that we will use for Matrix multiplication and addition\n",
    "\n",
    "m1 = tf.constant([[1.],[0.],[-1.],[2.],[4.]])\n",
    "m2 = tf.constant([[2.]])\n",
    "a1 = tf.constant([[10.]])"
   ]
  },
  {
   "cell_type": "code",
   "execution_count": 96,
   "metadata": {
    "collapsed": true
   },
   "outputs": [],
   "source": [
    "# Next we declare the operations \n",
    "\n",
    "prod1 = tf.matmul(x_data,m1)  # Multiplying 3X5 with 5X1 result it 3X1\n",
    "prod2 = tf.matmul(prod1, m2)  # Multiplying 3X1 with 1X1 result is 3X1\n",
    "add1 = tf.add(prod2,a1)"
   ]
  },
  {
   "cell_type": "code",
   "execution_count": 97,
   "metadata": {},
   "outputs": [
    {
     "name": "stdout",
     "output_type": "stream",
     "text": [
      "[[ 102.]\n",
      " [  66.]\n",
      " [  58.]]\n",
      "[[ 114.]\n",
      " [  78.]\n",
      " [  70.]]\n"
     ]
    }
   ],
   "source": [
    "# Finally we feed the data through the coputational graph \n",
    "\n",
    "for x_val in x_vals:\n",
    "    print(sess.run(add1,feed_dict={x_data: x_val}))"
   ]
  },
  {
   "cell_type": "markdown",
   "metadata": {},
   "source": [
    "### Working with Multiple Layers\n",
    "- In this section we will see that computational graph can get large and complex \n",
    "- We will introduce name operations and scopes for layers "
   ]
  },
  {
   "cell_type": "code",
   "execution_count": 98,
   "metadata": {
    "collapsed": true
   },
   "outputs": [],
   "source": [
    "# Creating a sample 2D image of 4X4 pixel image \n",
    "# Creating it in 4 dimensions , 1st and last dimension has size of one \n",
    "# Note some TF image func operate on 4D images (img #, Height, Width, Channel)\n",
    "\n",
    "x_shape = [1,4,4,1]\n",
    "x_val = np.random.uniform(size=x_shape)"
   ]
  },
  {
   "cell_type": "code",
   "execution_count": 99,
   "metadata": {
    "collapsed": true
   },
   "outputs": [],
   "source": [
    "# Create Placeholder \n",
    "x_data = tf.placeholder(tf.float32, shape=x_shape)"
   ]
  },
  {
   "cell_type": "markdown",
   "metadata": {},
   "source": [
    "- To create a moving window average across 4X4 image\n",
    "- we use built in function that will convolute a constant across a window of shape 2X2\n",
    "- This function is quite common among image processing *conv2d()*\n",
    "- This function takes in peicewise product of the window and a filter that we specify\n",
    "- we must also specify stride "
   ]
  },
  {
   "cell_type": "code",
   "execution_count": 100,
   "metadata": {
    "collapsed": true
   },
   "outputs": [],
   "source": [
    "my_filter = tf.constant(0.25, shape=[2,2,1,1])\n",
    "my_stride = [1,2,2,1]\n",
    "mov_avg_layer = tf.nn.conv2d(x_data,my_filter,my_stride, padding='SAME''', name='Moving_Avg_Window')"
   ]
  },
  {
   "cell_type": "code",
   "execution_count": 101,
   "metadata": {
    "collapsed": true
   },
   "outputs": [],
   "source": [
    "# Now we define custom layer that will operate on 2x2 output of the moving window average \n",
    "# First we multiply 2X2 matrix with another 2X2 matrix and then add one to each entry (Ax + b)\n",
    "# Since the matrix multiplication only operate on the 2 dimensional matrix we need to drop few extra dimensions \n",
    "# We can do this by using built in function squeeze()\n",
    "\n",
    "def custom_layer(input_matrix):\n",
    "    input_matrix_squeezed = tf.squeeze(input_matrix)\n",
    "    A = tf.constant([[1.,2.],[-1.,3.]])\n",
    "    b = tf.constant(1., shape=[2,2])\n",
    "    temp1 = tf.matmul(A,input_matrix_squeezed)\n",
    "    temp = tf.add(temp1, b) # Ax + b\n",
    "    return(tf.sigmoid(temp))"
   ]
  },
  {
   "cell_type": "code",
   "execution_count": 102,
   "metadata": {
    "collapsed": true
   },
   "outputs": [],
   "source": [
    "# Now we place the new layer on the graph \n",
    "# We do this with a named scope so that is identifiable and collapsible/expandable on computational graph\n",
    "\n",
    "with tf.name_scope('Custom_Layer') as scope:\n",
    "    custom_layer1 = custom_layer(mov_avg_layer)"
   ]
  },
  {
   "cell_type": "code",
   "execution_count": 103,
   "metadata": {},
   "outputs": [
    {
     "name": "stdout",
     "output_type": "stream",
     "text": [
      "[[ 0.9568184   0.84790617]\n",
      " [ 0.92529565  0.77374595]]\n"
     ]
    }
   ],
   "source": [
    "\n",
    "# Finally we just feed in the 4X4 matrix\n",
    "\n",
    "print(sess.run(custom_layer1, feed_dict={x_data:x_val}))"
   ]
  },
  {
   "cell_type": "code",
   "execution_count": null,
   "metadata": {
    "collapsed": true
   },
   "outputs": [],
   "source": []
  },
  {
   "cell_type": "markdown",
   "metadata": {},
   "source": [
    "## Implementing the Loss Function \n",
    "\n",
    "- Loss function is very important to machine learning algorithms\n",
    "- Measure the distance between the model output and target(truth) values \n",
    "- In order to optimize our machine learning algorithm we will need to evaluate the outcome that's where the loss function comes into play \n",
    "- Loss function tells TensorFlow how good or bad our prediction is compared to desired result \n",
    "- Loss function compares the **Target** with **Prediction** and gives a numerical distance between the two "
   ]
  },
  {
   "cell_type": "markdown",
   "metadata": {
    "collapsed": true
   },
   "source": [
    "- First we'll talk about the loss function in Regression ie. predicting continous dependent variable \n",
    "- For start we'll create a sequence of predictions and target as a Tensor\n",
    "- Will output the result across 500 x-values between -1 and 1"
   ]
  },
  {
   "cell_type": "code",
   "execution_count": 104,
   "metadata": {
    "collapsed": true
   },
   "outputs": [],
   "source": [
    "x_vals = tf.linspace(-1.,1.,500)\n",
    "target = tf.constant(0.)\n",
    "x_array = sess.run(x_vals)"
   ]
  },
  {
   "cell_type": "markdown",
   "metadata": {},
   "source": [
    "- The L2 norm loss is also known as **Euclidean** loss function\n",
    "- It is the sqaure of the distance to the target\n",
    "- Here we'll compute the loss function as if the target is zero "
   ]
  },
  {
   "cell_type": "code",
   "execution_count": 105,
   "metadata": {},
   "outputs": [
    {
     "data": {
      "text/plain": [
       "<matplotlib.legend.Legend at 0x11caafc18>"
      ]
     },
     "execution_count": 105,
     "metadata": {},
     "output_type": "execute_result"
    },
    {
     "data": {
      "image/png": "[encoded data removed]",
      "text/plain": [
       "<matplotlib.figure.Figure at 0x11caaff60>"
      ]
     },
     "metadata": {},
     "output_type": "display_data"
    }
   ],
   "source": [
    "l2_y_vals = tf.square(target - x_vals)\n",
    "l2_y_out = sess.run(l2_y_vals)\n",
    "plt.plot(x_array, l2_y_out, 'b--', label='L2 Loss')\n",
    "plt.legend(loc='lower right')"
   ]
  },
  {
   "cell_type": "markdown",
   "metadata": {},
   "source": [
    "- L1 loss function is also know as absolute loss function \n",
    "- Instead of sqauring the differences we take the absolute value \n",
    "- L1 is better for outlier than L2 norm since it's not steep for larger values \n",
    "- L1 is not smooth though"
   ]
  },
  {
   "cell_type": "code",
   "execution_count": 106,
   "metadata": {},
   "outputs": [
    {
     "data": {
      "text/plain": [
       "<matplotlib.legend.Legend at 0x11cb71198>"
      ]
     },
     "execution_count": 106,
     "metadata": {},
     "output_type": "execute_result"
    },
    {
     "data": {
      "image/png": "[encoded data removed]",
      "text/plain": [
       "<matplotlib.figure.Figure at 0x11cb710b8>"
      ]
     },
     "metadata": {},
     "output_type": "display_data"
    }
   ],
   "source": [
    "l1_y_vals = tf.abs(target - x_vals)\n",
    "l1_y_out = sess.run(l1_y_vals)\n",
    "plt.plot(x_array, l1_y_out, 'r--', label='L1 Loss')\n",
    "plt.legend(loc='lower right')"
   ]
  },
  {
   "cell_type": "markdown",
   "metadata": {},
   "source": [
    "- **Pseudo huber loss** is continous and smooth approximation to Huber Loss function \n",
    "- This loss function attempts to take the best from L1 and L2 by being convex near the Target and less steep for extreme values \n",
    "- Depends on extra parameter delta indicating how steep it will be "
   ]
  },
  {
   "cell_type": "code",
   "execution_count": 107,
   "metadata": {},
   "outputs": [
    {
     "data": {
      "text/plain": [
       "<matplotlib.legend.Legend at 0x11567c198>"
      ]
     },
     "execution_count": 107,
     "metadata": {},
     "output_type": "execute_result"
    },
    {
     "data": {
      "image/png": "[encoded data removed]",
      "text/plain": [
       "<matplotlib.figure.Figure at 0x113b86908>"
      ]
     },
     "metadata": {},
     "output_type": "display_data"
    }
   ],
   "source": [
    "hub_delta_1 = tf.constant(0.5)\n",
    "hub_delta_2 = tf.constant(5.)\n",
    "\n",
    "phuber1_y_vals = tf.multiply(tf.square(hub_delta_1), tf.sqrt(1. + tf.square((target - x_vals)/ hub_delta_1)) - 1.)\n",
    "phuber1_y_out = sess.run(phuber1_y_vals)\n",
    "\n",
    "phuber2_y_vals = tf.multiply(tf.square(hub_delta_2), tf.sqrt(1. + tf.square((target - x_vals)/ hub_delta_2)) - 1.)\n",
    "phuber2_y_out = sess.run(phuber2_y_vals)\n",
    "\n",
    "plt.plot(x_array, phuber1_y_out, 'k-', label='P-Huber Loss (0.5)')\n",
    "plt.plot(x_array, phuber2_y_out, 'g:', label='P-Huber Loss (5.0)')\n",
    "plt.legend(loc='lower right')"
   ]
  },
  {
   "cell_type": "code",
   "execution_count": 121,
   "metadata": {
    "collapsed": true
   },
   "outputs": [],
   "source": [
    "# Redefining our predictions (x_vals) and target\n",
    "\n",
    "x_vals = tf.linspace(-1., 5., 500)\n",
    "target = tf.constant(1.)\n",
    "targets = tf.fill([500,], 1.)"
   ]
  },
  {
   "cell_type": "markdown",
   "metadata": {},
   "source": [
    "- **Hinge Loss** is mostly used for support vector machines but can also be used in Neural Network as well\n",
    "- It's meant to compute the loss between two target classes 1 and -1 \n"
   ]
  },
  {
   "cell_type": "code",
   "execution_count": 110,
   "metadata": {},
   "outputs": [
    {
     "data": {
      "text/plain": [
       "<matplotlib.legend.Legend at 0x11d13c780>"
      ]
     },
     "execution_count": 110,
     "metadata": {},
     "output_type": "execute_result"
    },
    {
     "data": {
      "image/png": "[encoded data removed]",
      "text/plain": [
       "<matplotlib.figure.Figure at 0x11d13c908>"
      ]
     },
     "metadata": {},
     "output_type": "display_data"
    }
   ],
   "source": [
    "hinge_y_vals = tf.maximum(0., 1. - tf.multiply(target, x_vals))\n",
    "hinge_y_out = sess.run(hinge_y_vals)\n",
    "plt.plot(x_array, hinge_y_out, 'b-', label='Hinge Loss')\n",
    "plt.ylim(-1.5, 3)\n",
    "plt.legend(loc='lower right')"
   ]
  },
  {
   "cell_type": "markdown",
   "metadata": {},
   "source": [
    "- ** Cross Entropy Loss** for binary case is also refered to as the logistic loss func\n",
    "- It comes about when we are predicting the two classes 0 and 1 \n",
    "- We wish to measure the distance from actual class to the predicted value\n",
    "- Given by the cross entropy formula"
   ]
  },
  {
   "cell_type": "code",
   "execution_count": 112,
   "metadata": {},
   "outputs": [
    {
     "data": {
      "text/plain": [
       "<matplotlib.legend.Legend at 0x11d3085f8>"
      ]
     },
     "execution_count": 112,
     "metadata": {},
     "output_type": "execute_result"
    },
    {
     "data": {
      "image/png": "[encoded data removed]",
      "text/plain": [
       "<matplotlib.figure.Figure at 0x11d8ae320>"
      ]
     },
     "metadata": {},
     "output_type": "display_data"
    }
   ],
   "source": [
    "xentropy_y_vals = - tf.multiply(target, tf.log(x_vals)) - tf.multiply((1. - target), tf.log(1. - x_vals))\n",
    "xentropy_y_out = sess.run(xentropy_y_vals)\n",
    "plt.plot(x_array, xentropy_y_out, 'r--', label='Cross Entropy Loss')\n",
    "plt.ylim(-1.5, 3)\n",
    "plt.xlim(-3,5)\n",
    "plt.legend(loc='lower right')"
   ]
  },
  {
   "cell_type": "markdown",
   "metadata": {},
   "source": [
    "- ** Sigmoid cross entropy loss ** is very similar to the previous loss function \n",
    "- Except we transform the x _values by the sigmoid function before we put them to cross entropy loss "
   ]
  },
  {
   "cell_type": "code",
   "execution_count": 118,
   "metadata": {},
   "outputs": [
    {
     "data": {
      "text/plain": [
       "<matplotlib.legend.Legend at 0x11deba400>"
      ]
     },
     "execution_count": 118,
     "metadata": {},
     "output_type": "execute_result"
    },
    {
     "data": {
      "image/png": "[encoded data removed]",
      "text/plain": [
       "<matplotlib.figure.Figure at 0x11deba5f8>"
      ]
     },
     "metadata": {},
     "output_type": "display_data"
    }
   ],
   "source": [
    "xentropy_sigmoid_y_vals = tf.nn.sigmoid_cross_entropy_with_logits(logits=x_vals, labels=targets)\n",
    "xentropy_sigmoid_y_out = sess.run(xentropy_sigmoid_y_vals)\n",
    "plt.plot(x_array, xentropy_sigmoid_y_out, 'k-.', label='Cross Entropy Sigmoid Loss')\n",
    "plt.ylim(-1.5, 3)\n",
    "plt.legend(loc='lower right')"
   ]
  },
  {
   "cell_type": "markdown",
   "metadata": {},
   "source": [
    "- ** Weighted cross entropy loss ** is weighted version of the *sigmoid cross entropy loss* \n",
    "- we provide weight on the positive target\n",
    "- eg. we will weight the positive target by 0.5\n"
   ]
  },
  {
   "cell_type": "code",
   "execution_count": 122,
   "metadata": {},
   "outputs": [
    {
     "data": {
      "text/plain": [
       "<matplotlib.legend.Legend at 0x11e01a400>"
      ]
     },
     "execution_count": 122,
     "metadata": {},
     "output_type": "execute_result"
    },
    {
     "data": {
      "image/png": "[encoded data removed]",
      "text/plain": [
       "<matplotlib.figure.Figure at 0x11e15e908>"
      ]
     },
     "metadata": {},
     "output_type": "display_data"
    }
   ],
   "source": [
    "weight = tf.constant(0.5)\n",
    "xentropy_weighted_y_vals = tf.nn.weighted_cross_entropy_with_logits(x_vals, targets, weight)\n",
    "xentropy_weighted_y_out = sess.run(xentropy_weighted_y_vals)\n",
    "plt.plot(x_array, xentropy_weighted_y_out, 'g:', label='Weighted Cross Entropy Loss(0.5)')\n",
    "plt.ylim(-1.5, 3)\n",
    "plt.legend(loc='lower right')"
   ]
  },
  {
   "cell_type": "markdown",
   "metadata": {},
   "source": [
    "- **Softmax Cross Entropy loss** operates on non-normalized outputs \n",
    "- This is used to measure loss when there is only one target category instead of multiple \n",
    "- Function transforms the output into a probability distribution via the softmax function "
   ]
  },
  {
   "cell_type": "code",
   "execution_count": 81,
   "metadata": {},
   "outputs": [
    {
     "name": "stdout",
     "output_type": "stream",
     "text": [
      "[ 1.16012561]\n"
     ]
    }
   ],
   "source": [
    "unscaled_logits = tf.constant([[1., -3., 10.]])\n",
    "target_dist = tf.constant([[0.1, 0.02, 0.88]])\n",
    "softmax_xentropy = tf.nn.softmax_cross_entropy_with_logits(logits=unscaled_logits, labels=target_dist)\n",
    "print(sess.run(softmax_xentropy))"
   ]
  },
  {
   "cell_type": "markdown",
   "metadata": {},
   "source": [
    "- ** Sparse Softmax cross-entropy loss** is the same as previous one\n",
    "- Except the target being a probability distibution it is index of which category is true\n",
    "- Instead of a sparse all-zero vector with one value of one we pass in index of which category is true\n"
   ]
  },
  {
   "cell_type": "code",
   "execution_count": 83,
   "metadata": {},
   "outputs": [
    {
     "name": "stdout",
     "output_type": "stream",
     "text": [
      "[ 0.00012564]\n"
     ]
    }
   ],
   "source": [
    "unscaled_logits = tf.constant([[1., -3., 10.]])\n",
    "sparse_target_dist = tf.constant([2])\n",
    "sparse_xentropy = tf.nn.sparse_softmax_cross_entropy_with_logits(logits=unscaled_logits, labels=sparse_target_dist)\n",
    "print(sess.run(sparse_xentropy))"
   ]
  },
  {
   "cell_type": "code",
   "execution_count": null,
   "metadata": {
    "collapsed": true
   },
   "outputs": [],
   "source": []
  }
 ],
 "metadata": {
  "kernelspec": {
   "display_name": "Python 3",
   "language": "python",
   "name": "python3"
  },
  "language_info": {
   "codemirror_mode": {
    "name": "ipython",
    "version": 3
   },
   "file_extension": ".py",
   "mimetype": "text/x-python",
   "name": "python",
   "nbconvert_exporter": "python",
   "pygments_lexer": "ipython3",
   "version": "3.6.3"
  }
 },
 "nbformat": 4,
 "nbformat_minor": 2
}
