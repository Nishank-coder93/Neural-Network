{
 "cells": [
  {
   "cell_type": "code",
   "execution_count": 1,
   "metadata": {
    "collapsed": true
   },
   "outputs": [],
   "source": [
    "import itertools\n",
    "import numpy as np \n",
    "import tensorflow as tf\n",
    "from sklearn.metrics import confusion_matrix\n",
    "import matplotlib.pyplot as plt\n",
    "\n",
    "%matplotlib inline"
   ]
  },
  {
   "cell_type": "markdown",
   "metadata": {},
   "source": [
    "- One of the benefits of using TensorFlow is that it can keep track of it's operations and automatically update model variables\n",
    "- Let's see how to change our model variables in such a way that loss function is minimized \n",
    "- Backpropogate errors through our computational graph to update our variable and minimize the loss function, this is done by declaring an optimize function "
   ]
  },
  {
   "cell_type": "code",
   "execution_count": 2,
   "metadata": {
    "collapsed": true
   },
   "outputs": [],
   "source": [
    "sess = tf.Session()"
   ]
  },
  {
   "cell_type": "code",
   "execution_count": 3,
   "metadata": {
    "collapsed": true
   },
   "outputs": [],
   "source": [
    "# Function to create Confusion Matrix taken from scikit-learn documentation\n",
    "def plot_confusion_matrix(cm, classes,\n",
    "                          normalize=False,\n",
    "                          title='Confusion matrix',\n",
    "                          cmap=plt.cm.Blues):\n",
    "    \"\"\"\n",
    "    This function prints and plots the confusion matrix.\n",
    "    Normalization can be applied by setting `normalize=True`.\n",
    "    \"\"\"\n",
    "    if normalize:\n",
    "        cm = cm.astype('float') / cm.sum(axis=1)[:, np.newaxis]\n",
    "        print(\"Normalized confusion matrix\")\n",
    "    else:\n",
    "        print('Confusion matrix, without normalization')\n",
    "\n",
    "    print(cm)\n",
    "\n",
    "    plt.imshow(cm, interpolation='nearest', cmap=cmap)\n",
    "    plt.title(title)\n",
    "    plt.colorbar()\n",
    "    tick_marks = np.arange(len(classes))\n",
    "    plt.xticks(tick_marks, classes, rotation=45)\n",
    "    plt.yticks(tick_marks, classes)\n",
    "\n",
    "    fmt = '.2f' if normalize else 'd'\n",
    "    thresh = cm.max() / 2.\n",
    "    for i, j in itertools.product(range(cm.shape[0]), range(cm.shape[1])):\n",
    "        plt.text(j, i, format(cm[i, j], fmt),\n",
    "                 horizontalalignment=\"center\",\n",
    "                 color=\"white\" if cm[i, j] > thresh else \"black\")\n",
    "\n",
    "    plt.tight_layout()\n",
    "    plt.ylabel('True label')\n",
    "    plt.xlabel('Predicted label')"
   ]
  },
  {
   "cell_type": "code",
   "execution_count": 4,
   "metadata": {},
   "outputs": [
    {
     "name": "stdout",
     "output_type": "stream",
     "text": [
      "Extracting ../Data/MNIST_data/train-images-idx3-ubyte.gz\n",
      "Extracting ../Data/MNIST_data/train-labels-idx1-ubyte.gz\n",
      "Extracting ../Data/MNIST_data/t10k-images-idx3-ubyte.gz\n",
      "Extracting ../Data/MNIST_data/t10k-labels-idx1-ubyte.gz\n"
     ]
    }
   ],
   "source": [
    "# Loading the MNIST Dataset and uses One Hot encoding\n",
    "\n",
    "from tensorflow.examples.tutorials.mnist import input_data\n",
    "mnist = input_data.read_data_sets(\"../Data/MNIST_data/\",one_hot=True)"
   ]
  },
  {
   "cell_type": "code",
   "execution_count": 5,
   "metadata": {},
   "outputs": [
    {
     "name": "stdout",
     "output_type": "stream",
     "text": [
      "Number of Training data:  44000\n",
      "Number of Test data: 11000\n"
     ]
    }
   ],
   "source": [
    "# Splits the Train and Test data in percentage from using test_size parameters in this case 20% is used as Test data\n",
    "from sklearn.model_selection import train_test_split\n",
    "X_train,x_test,Y_train,y_test = train_test_split(mnist.train.images,mnist.train.labels,test_size=0.2)\n",
    "print(\"Number of Training data: \", len(X_train))\n",
    "print(\"Number of Test data:\", len(x_test))"
   ]
  },
  {
   "cell_type": "code",
   "execution_count": 6,
   "metadata": {},
   "outputs": [
    {
     "name": "stdout",
     "output_type": "stream",
     "text": [
      "55000\n",
      "10000\n",
      "5000\n",
      "[ 0.  0.  0.  1.  0.  0.  0.  0.  0.  0.]\n"
     ]
    }
   ],
   "source": [
    "# The actual data break up and a sample encoded version of label\n",
    "print(len(mnist.train.images))\n",
    "print(len(mnist.test.images))\n",
    "print(len(mnist.validation.images))\n",
    "print(mnist.train.labels[1,:])"
   ]
  },
  {
   "cell_type": "code",
   "execution_count": 7,
   "metadata": {
    "collapsed": true
   },
   "outputs": [],
   "source": [
    "# Optimization variables \n",
    "learning_rate = 0.5\n",
    "epochs = 20\n",
    "batch_size = 100\n",
    "hidden_layer_nodes = 300"
   ]
  },
  {
   "cell_type": "code",
   "execution_count": 8,
   "metadata": {
    "collapsed": true
   },
   "outputs": [],
   "source": [
    "# Declaring the training data placeholder\n",
    "# input x - for 28 X 28 pixels = 784\n",
    "\n",
    "x = tf.placeholder(tf.float32, shape = [None,784])\n",
    "\n",
    "# Declare the output data placeholder - 10 digits\n",
    "\n",
    "y = tf.placeholder(tf.float32, [None, 10])"
   ]
  },
  {
   "cell_type": "markdown",
   "metadata": {},
   "source": [
    "For below Code\n",
    "- first we declare variables w1 and b1 the weights and bias for connection between input and hidden layer\n",
    "- The hidden neural network has about 300 (default) layers of nodes \n",
    "- Therefore the size of weight 1 tensor is [784 - Rows, 300 - Cols]\n",
    "- We initialized the value of weights using random normal distribution with mean of zero and stddev of 0.03\n",
    "- Like wise we created W2 and b2 with 10 output nodes "
   ]
  },
  {
   "cell_type": "code",
   "execution_count": 9,
   "metadata": {
    "collapsed": true
   },
   "outputs": [],
   "source": [
    "# Setting up Weights and Bias variable for Three layer Neural Network\n",
    "# There are always L-1 number of weights and Bias tensors where L is the number of Layers \n",
    "\n",
    "# Declaring weights and Bias connecting the input to the Hidden Layer \n",
    "W1 = tf.Variable(tf.random_normal([784, hidden_layer_nodes], stddev=0.03), name='W1')\n",
    "b1 = tf.Variable(tf.random_normal([hidden_layer_nodes]), name= 'b1')\n",
    "\n",
    "# and the weights connecting the Hidden Layer to the ouput layer\n",
    "W2 = tf.Variable(tf.random_normal([hidden_layer_nodes,10], stddev=0.03), name='W2')\n",
    "b2 = tf.Variable(tf.random_normal([10]), name= 'b2')"
   ]
  },
  {
   "cell_type": "markdown",
   "metadata": {},
   "source": [
    "- First we'll execute the standard Matrix multiplication of inputs with weights 1 and add bias b1 to it\n",
    "- net_worth = (Ax + b)\n",
    "- Then we apply the activation function (ReLU Rectified Linear Unit) to the net_worth\n",
    "- activation_function(net_worth)"
   ]
  },
  {
   "cell_type": "code",
   "execution_count": 10,
   "metadata": {
    "collapsed": true
   },
   "outputs": [],
   "source": [
    "# Next we setup the node inputs and and activation function for the hidden layer \n",
    "# Calculate the output of the Hidden Layer \n",
    "\n",
    "# [ ASSIGNMENT PROBLEM ]\n",
    "# The activation function for Hidden Layer should either RELU or Sigmoid \n",
    "\n",
    "hidden_out_net = tf.add(tf.matmul(x,W1), b1)\n",
    "hidden_out = tf.nn.relu(hidden_out_net)\n",
    "#hidden_out = tf.nn.sigmoid(hidden_out_net)"
   ]
  },
  {
   "cell_type": "code",
   "execution_count": 11,
   "metadata": {
    "collapsed": true
   },
   "outputs": [],
   "source": [
    "# Now we set up the output layer \n",
    "# The output from the Hidden layer is the input to the Output Layer \n",
    "# We'll use the softmax activation function for the Output \n",
    "# [ASSIGNMENT PROBLEM] Activation function should be either Softmax or Sigmoid \n",
    "\n",
    "output_layer_net = tf.add(tf.matmul(hidden_out, W2), b2)\n",
    "y_output = tf.nn.softmax(output_layer_net)\n",
    "# y_output = tf.nn.sigmoid(output_layer_net)"
   ]
  },
  {
   "cell_type": "markdown",
   "metadata": {},
   "source": [
    "- we have to include a cost function or loss function for the Optimization / Backpropogation to work on\n",
    "- we'll be using Cross Entropy \n",
    "- The first line is a operation converting the output y_output to a clipped version limited between 1e-10 and 0.999999\n",
    "- This is to ensure we never get a case where we have log(0) operation occuring during training as it would return NaN and break the training "
   ]
  },
  {
   "cell_type": "code",
   "execution_count": 12,
   "metadata": {
    "collapsed": true
   },
   "outputs": [],
   "source": [
    "y_clipped = tf.clip_by_value(y_output, 1e-10, 0.9999999)\n",
    "cross_entropy = -tf.reduce_mean(tf.reduce_sum(y * tf.log(y_clipped) + (1 - y) * tf.log(1 - y_clipped), axis=1))"
   ]
  },
  {
   "cell_type": "code",
   "execution_count": 13,
   "metadata": {
    "collapsed": true
   },
   "outputs": [],
   "source": [
    "# Setting up an optimizer\n",
    "\n",
    "optimizer = tf.train.GradientDescentOptimizer(learning_rate=learning_rate).minimize(cross_entropy)"
   ]
  },
  {
   "cell_type": "code",
   "execution_count": 14,
   "metadata": {
    "collapsed": true
   },
   "outputs": [],
   "source": [
    "# setting up initialization operator \n",
    "\n",
    "init_op = tf.global_variables_initializer()\n",
    "\n",
    "# Define an accuracy assesment model\n",
    "# tf.equal returns True or False tf.argmax same as np.argmax returns the index of maximum value in a vector/tensor\n",
    "correct_prediction = tf.equal(tf.argmax(y,1), tf.argmax(y_output,1))\n",
    "accuracy = tf.reduce_mean(tf.cast(correct_prediction, tf.float32))\n"
   ]
  },
  {
   "cell_type": "code",
   "execution_count": 15,
   "metadata": {
    "collapsed": true
   },
   "outputs": [],
   "source": [
    "y_output_arg = tf.argmax(y_output,1)"
   ]
  },
  {
   "cell_type": "code",
   "execution_count": 16,
   "metadata": {
    "collapsed": true
   },
   "outputs": [],
   "source": [
    "# This function calculates the error rate at each epoch \n",
    "def calculate_error_rate(pred_label, true_label):\n",
    "    error_arg = true_label - pred_label \n",
    "    print(\"Error cal: \", error_arg)\n",
    "    \n",
    "    cnt_nonzeroes = np.count_nonzero(error_arg)\n",
    "    cnt_zeroes = len(true_label) - cnt_nonzeroes\n",
    "    error_percent = (cnt_nonzeroes / (cnt_zeroes + cnt_nonzeroes)) * 100\n",
    "    print(\"Percentage error for one epoch :\", error_percent)"
   ]
  },
  {
   "cell_type": "code",
   "execution_count": 17,
   "metadata": {
    "collapsed": true
   },
   "outputs": [],
   "source": [
    "# confusion_matrix = tf.confusion_matrix(labels=y, predictions=y_output, num_classes=10)\n",
    "avg_cost_lst = []\n",
    "class_names = np.arange(0,10)"
   ]
  },
  {
   "cell_type": "code",
   "execution_count": 18,
   "metadata": {
    "collapsed": true
   },
   "outputs": [],
   "source": [
    "sess.run(init_op)"
   ]
  },
  {
   "cell_type": "code",
   "execution_count": 19,
   "metadata": {},
   "outputs": [
    {
     "name": "stdout",
     "output_type": "stream",
     "text": [
      "Epoch: 1 cost= 0.661\n",
      "Error cal:  [0 0 0 ..., 0 0 0]\n",
      "Percentage error for one epoch : 4.58\n",
      "Epoch: 2 cost= 0.237\n",
      "Error cal:  [0 0 0 ..., 0 0 0]\n",
      "Percentage error for one epoch : 3.19\n",
      "Epoch: 3 cost= 0.177\n",
      "Error cal:  [0 0 0 ..., 0 0 0]\n",
      "Percentage error for one epoch : 3.2099999999999995\n",
      "Epoch: 4 cost= 0.139\n",
      "Error cal:  [0 0 0 ..., 0 0 0]\n",
      "Percentage error for one epoch : 2.73\n",
      "Epoch: 5 cost= 0.113\n",
      "Error cal:  [0 0 0 ..., 0 0 0]\n",
      "Percentage error for one epoch : 2.71\n",
      "Epoch: 6 cost= 0.100\n",
      "Error cal:  [0 0 0 ..., 0 0 0]\n",
      "Percentage error for one epoch : 2.6\n",
      "Epoch: 7 cost= 0.085\n",
      "Error cal:  [0 0 0 ..., 0 0 0]\n",
      "Percentage error for one epoch : 2.52\n",
      "Epoch: 8 cost= 0.069\n",
      "Error cal:  [0 0 0 ..., 0 0 0]\n",
      "Percentage error for one epoch : 2.62\n",
      "Epoch: 9 cost= 0.058\n",
      "Error cal:  [0 0 0 ..., 0 0 0]\n",
      "Percentage error for one epoch : 2.41\n",
      "Epoch: 10 cost= 0.052\n",
      "Error cal:  [0 0 0 ..., 0 0 0]\n",
      "Percentage error for one epoch : 2.52\n",
      "Epoch: 11 cost= 0.042\n",
      "Error cal:  [0 0 0 ..., 0 0 0]\n",
      "Percentage error for one epoch : 2.27\n",
      "Epoch: 12 cost= 0.037\n",
      "Error cal:  [0 0 0 ..., 0 0 0]\n",
      "Percentage error for one epoch : 2.37\n",
      "Epoch: 13 cost= 0.030\n",
      "Error cal:  [0 0 0 ..., 0 0 0]\n",
      "Percentage error for one epoch : 2.39\n",
      "Epoch: 14 cost= 0.025\n",
      "Error cal:  [0 0 0 ..., 0 0 0]\n",
      "Percentage error for one epoch : 2.3\n",
      "Epoch: 15 cost= 0.020\n",
      "Error cal:  [0 0 0 ..., 0 0 0]\n",
      "Percentage error for one epoch : 2.23\n",
      "Epoch: 16 cost= 0.016\n",
      "Error cal:  [0 0 0 ..., 0 0 0]\n",
      "Percentage error for one epoch : 2.25\n",
      "Epoch: 17 cost= 0.013\n",
      "Error cal:  [0 0 0 ..., 0 0 0]\n",
      "Percentage error for one epoch : 2.31\n",
      "Epoch: 18 cost= 0.008\n",
      "Error cal:  [0 0 0 ..., 0 0 0]\n",
      "Percentage error for one epoch : 2.13\n",
      "Epoch: 19 cost= 0.005\n",
      "Error cal:  [0 0 0 ..., 0 0 0]\n",
      "Percentage error for one epoch : 2.13\n",
      "Epoch: 20 cost= 0.004\n",
      "Error cal:  [0 0 0 ..., 0 0 0]\n",
      "Percentage error for one epoch : 2.16\n",
      "0.9784\n",
      "[7 2 1 ..., 4 5 6]\n",
      "[7 2 1 ..., 4 5 6]\n",
      "[[ 973    0    3    2    4    3    6    1    7    1]\n",
      " [   1 1127    3    2    0    1    3    4    1    2]\n",
      " [   0    3 1006    4    3    0    1    7    3    0]\n",
      " [   0    1    3  991    0    9    1    2    2    3]\n",
      " [   1    0    4    0  951    0    6    2    5    6]\n",
      " [   1    1    1    5    1  866    5    1    2    3]\n",
      " [   1    2    3    0    4    4  935    0    2    0]\n",
      " [   1    1    4    1    2    0    0 1002    2    4]\n",
      " [   1    0    5    4    1    7    1    2  945    2]\n",
      " [   1    0    0    1   16    2    0    7    5  988]]\n",
      "Confusion matrix, without normalization\n",
      "[[ 973    0    3    2    4    3    6    1    7    1]\n",
      " [   1 1127    3    2    0    1    3    4    1    2]\n",
      " [   0    3 1006    4    3    0    1    7    3    0]\n",
      " [   0    1    3  991    0    9    1    2    2    3]\n",
      " [   1    0    4    0  951    0    6    2    5    6]\n",
      " [   1    1    1    5    1  866    5    1    2    3]\n",
      " [   1    2    3    0    4    4  935    0    2    0]\n",
      " [   1    1    4    1    2    0    0 1002    2    4]\n",
      " [   1    0    5    4    1    7    1    2  945    2]\n",
      " [   1    0    0    1   16    2    0    7    5  988]]\n"
     ]
    },
    {
     "data": {
      "image/png": "[encoded data removed]",
      "text/plain": [
       "<matplotlib.figure.Figure at 0x127668a90>"
      ]
     },
     "metadata": {},
     "output_type": "display_data"
    }
   ],
   "source": [
    "# Runs the algorithm for # epochs and displays the error loss at each epoch\n",
    "total_batch = int(len(mnist.train.labels) / batch_size)\n",
    "y_t_cm_arg = sess.run(tf.argmax(mnist.test.labels,1))\n",
    "    \n",
    "for epoch in range(epochs):\n",
    "    avg_cost = 0\n",
    "        \n",
    "    for i in range(total_batch):\n",
    "        batch_x, batch_y = mnist.train.next_batch(batch_size=batch_size)\n",
    "        _,c = sess.run([optimizer, cross_entropy], feed_dict={x: batch_x, y: batch_y})\n",
    "            \n",
    "        avg_cost += c / total_batch\n",
    "        \n",
    "    avg_cost_lst.append(avg_cost)\n",
    "    print(\"Epoch:\", (epoch + 1), \"cost=\", \"{:.3f}\".format(avg_cost))\n",
    "    y_out_epoch = sess.run(y_output_arg, feed_dict={x: mnist.test.images, y: mnist.test.labels})\n",
    "    calculate_error_rate(y_out_epoch,y_t_cm_arg)\n",
    "#         print(\"Accuracy for Epoch:\", (epoch + 1), \"is \", sess.run(accuracy, feed_dict={x: mnist.test.images, y: mnist.test.labels}) )\n",
    "print(sess.run(accuracy, feed_dict={x: mnist.test.images, y: mnist.test.labels}))\n",
    "y_out_cm_arg = sess.run(y_output_arg, feed_dict={x: mnist.test.images, y: mnist.test.labels})\n",
    "print(y_out_cm_arg)\n",
    "print(y_t_cm_arg)\n",
    "cmf_val = confusion_matrix(y_out_cm_arg, y_t_cm_arg)\n",
    "print(cmf_val)\n",
    "plot_confusion_matrix(cmf_val, classes=class_names, title='Confusion matrix, without normalization')"
   ]
  },
  {
   "cell_type": "code",
   "execution_count": 20,
   "metadata": {},
   "outputs": [
    {
     "data": {
      "text/plain": [
       "[0.66067484880035576,\n",
       " 0.2365710242160341,\n",
       " 0.1772020834819841,\n",
       " 0.13940554662692276,\n",
       " 0.1133969053338197,\n",
       " 0.10027877523648464,\n",
       " 0.084591137640686084,\n",
       " 0.069220866006375753,\n",
       " 0.05844858295241883,\n",
       " 0.051663243848280145,\n",
       " 0.04209838714111936,\n",
       " 0.037424486004747459,\n",
       " 0.030171211615670476,\n",
       " 0.025149673793613058,\n",
       " 0.020452143893714737,\n",
       " 0.016387698055319061,\n",
       " 0.012931002762422641,\n",
       " 0.0084793983867116757,\n",
       " 0.0053903318916722542,\n",
       " 0.0044732861347835176]"
      ]
     },
     "execution_count": 20,
     "metadata": {},
     "output_type": "execute_result"
    }
   ],
   "source": [
    "# Stores Average Error cost in an array\n",
    "avg_cost_lst"
   ]
  },
  {
   "cell_type": "code",
   "execution_count": 21,
   "metadata": {
    "collapsed": true
   },
   "outputs": [],
   "source": [
    "# Arranges the Number of Epochs used \n",
    "x_plt = np.arange(1,epochs+1)"
   ]
  },
  {
   "cell_type": "code",
   "execution_count": 22,
   "metadata": {},
   "outputs": [
    {
     "data": {
      "text/plain": [
       "[<matplotlib.lines.Line2D at 0x133700d30>]"
      ]
     },
     "execution_count": 22,
     "metadata": {},
     "output_type": "execute_result"
    },
    {
     "data": {
      "image/png": "[encoded data removed]",
      "text/plain": [
       "<matplotlib.figure.Figure at 0x12764eb70>"
      ]
     },
     "metadata": {},
     "output_type": "display_data"
    }
   ],
   "source": [
    "# Plots the Error Loss graph to show the reduction of error at each epoch or iteration\n",
    "plt.plot(x_plt,avg_cost_lst)"
   ]
  },
  {
   "cell_type": "code",
   "execution_count": null,
   "metadata": {
    "collapsed": true
   },
   "outputs": [],
   "source": []
  }
 ],
 "metadata": {
  "kernelspec": {
   "display_name": "Python 3",
   "language": "python",
   "name": "python3"
  },
  "language_info": {
   "codemirror_mode": {
    "name": "ipython",
    "version": 3
   },
   "file_extension": ".py",
   "mimetype": "text/x-python",
   "name": "python",
   "nbconvert_exporter": "python",
   "pygments_lexer": "ipython3",
   "version": "3.6.3"
  }
 },
 "nbformat": 4,
 "nbformat_minor": 2
}
