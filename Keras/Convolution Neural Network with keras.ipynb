{
 "cells": [
  {
   "cell_type": "code",
   "execution_count": 1,
   "metadata": {},
   "outputs": [
    {
     "name": "stderr",
     "output_type": "stream",
     "text": [
      "Using TensorFlow backend.\n"
     ]
    }
   ],
   "source": [
    "import keras\n",
    "from keras.models import Sequential     # For initializing the Neural Net\n",
    "from keras.layers import Conv2D  # 2D as we are dealing with images\n",
    "from keras.layers import MaxPooling2D  # 2D pooling for images\n",
    "from keras.layers import Flatten       # flattens the pooled image set \n",
    "from keras.layers import Dense         # Dense to bulid up layers\n",
    "from keras.layers import Dropout"
   ]
  },
  {
   "cell_type": "code",
   "execution_count": 2,
   "metadata": {
    "collapsed": true
   },
   "outputs": [],
   "source": [
    "# initializing the Convolution Neural Net\n",
    "classifier = Sequential()"
   ]
  },
  {
   "cell_type": "code",
   "execution_count": 3,
   "metadata": {},
   "outputs": [],
   "source": [
    "# Step 1 - Convolution\n",
    "# nb_filter <- num of convo layers \n",
    "# featuremap_rows <- num of rows in feature map\n",
    "# featuremap_cols <- num of cols in feature map\n",
    "# input_sape <- expected shape of the input shape (256,256,3) for TensorFlow backend\n",
    "# activation <- The function to pass the convoluted data, use ReLU to break linearity\n",
    "# print(help(Conv2D))\n",
    "classifier.add(Conv2D(64, (3,3), input_shape=(64,64,3), activation = 'relu'))"
   ]
  },
  {
   "cell_type": "code",
   "execution_count": 4,
   "metadata": {},
   "outputs": [],
   "source": [
    "# Step 2 - Pooling \n",
    "# pool_size <- size of the Pool matrix, mostly take 2X2\n",
    "# print(help(MaxPooling2D))\n",
    "classifier.add(MaxPooling2D(pool_size = (2,2)))"
   ]
  },
  {
   "cell_type": "code",
   "execution_count": 5,
   "metadata": {
    "collapsed": true
   },
   "outputs": [],
   "source": [
    "# Adding Second Convolution Layer\n",
    "classifier.add(Conv2D(64, (3,3), activation = 'relu'))\n",
    "\n",
    "classifier.add(MaxPooling2D(pool_size = (2,2)))"
   ]
  },
  {
   "cell_type": "code",
   "execution_count": 6,
   "metadata": {
    "collapsed": true
   },
   "outputs": [],
   "source": [
    "# Adding Third Convolution Layer\n",
    "classifier.add(Conv2D(64, (3,3), activation = 'relu'))\n",
    "\n",
    "classifier.add(MaxPooling2D(pool_size = (2,2)))"
   ]
  },
  {
   "cell_type": "code",
   "execution_count": 7,
   "metadata": {
    "collapsed": true
   },
   "outputs": [],
   "source": [
    "# Step 3 - Flattening \n",
    "classifier.add(Flatten())"
   ]
  },
  {
   "cell_type": "code",
   "execution_count": 8,
   "metadata": {
    "collapsed": true
   },
   "outputs": [],
   "source": [
    "# Build up the Hidden Layer of the Neural Network \n",
    "classifier.add(Dense(units = 128, activation = 'relu'))"
   ]
  },
  {
   "cell_type": "code",
   "execution_count": 9,
   "metadata": {
    "collapsed": true
   },
   "outputs": [],
   "source": [
    "classifier.add(Dropout(0.5))"
   ]
  },
  {
   "cell_type": "code",
   "execution_count": 10,
   "metadata": {
    "collapsed": true
   },
   "outputs": [],
   "source": [
    "# Build up the Output Layer of the Neural Network \n",
    "classifier.add(Dense(units = 1, activation = 'sigmoid'))"
   ]
  },
  {
   "cell_type": "code",
   "execution_count": 11,
   "metadata": {
    "collapsed": true
   },
   "outputs": [],
   "source": [
    "# Compiling the CNN\n",
    "classifier.compile(optimizer= 'adam', loss = 'binary_crossentropy', metrics = ['accuracy'])"
   ]
  },
  {
   "cell_type": "code",
   "execution_count": 12,
   "metadata": {},
   "outputs": [
    {
     "name": "stdout",
     "output_type": "stream",
     "text": [
      "Found 8000 images belonging to 2 classes.\n",
      "Found 2000 images belonging to 2 classes.\n"
     ]
    }
   ],
   "source": [
    "# Fitting the CNN to the images \n",
    "from keras.preprocessing.image import ImageDataGenerator\n",
    "\n",
    "batch_size = 32\n",
    "\n",
    "train_datagen = ImageDataGenerator(\n",
    "        rescale=1./255,\n",
    "        shear_range=0.2,\n",
    "        zoom_range=0.2,\n",
    "        horizontal_flip=True)\n",
    "\n",
    "test_datagen = ImageDataGenerator(rescale=1./255)\n",
    "\n",
    "# Target size is the dimension that is expected by the CNN\n",
    "training_set = train_datagen.flow_from_directory(\n",
    "        'dataset/training_set',\n",
    "        target_size=(64, 64),\n",
    "        batch_size=batch_size,\n",
    "        class_mode='binary')\n",
    "\n",
    "test_set = test_datagen.flow_from_directory(\n",
    "        'dataset/test_set',\n",
    "        target_size=(64, 64),\n",
    "        batch_size=batch_size,\n",
    "        class_mode='binary')\n"
   ]
  },
  {
   "cell_type": "code",
   "execution_count": 13,
   "metadata": {},
   "outputs": [
    {
     "name": "stderr",
     "output_type": "stream",
     "text": [
      "/Users/Mac-NB/Envs/AI/lib/python3.6/site-packages/ipykernel_launcher.py:8: UserWarning: Update your `fit_generator` call to the Keras 2 API: `fit_generator(<keras.pre..., steps_per_epoch=250.0, epochs=90, validation_data=<keras.pre..., validation_steps=62.5, workers=12, max_queue_size=100)`\n",
      "  \n"
     ]
    },
    {
     "name": "stdout",
     "output_type": "stream",
     "text": [
      "Epoch 1/90\n",
      "250/250 [==============================] - 212s - loss: 0.6775 - acc: 0.5606 - val_loss: 0.6860 - val_acc: 0.5750\n",
      "Epoch 2/90\n",
      "250/250 [==============================] - 165s - loss: 0.6315 - acc: 0.6401 - val_loss: 0.5929 - val_acc: 0.6905\n",
      "Epoch 3/90\n",
      "250/250 [==============================] - 162s - loss: 0.5923 - acc: 0.6814 - val_loss: 0.5579 - val_acc: 0.7270\n",
      "Epoch 4/90\n",
      "250/250 [==============================] - 159s - loss: 0.5582 - acc: 0.7212 - val_loss: 0.5034 - val_acc: 0.7560\n",
      "Epoch 5/90\n",
      "250/250 [==============================] - 155s - loss: 0.5200 - acc: 0.7445 - val_loss: 0.4865 - val_acc: 0.7695\n",
      "Epoch 6/90\n",
      "250/250 [==============================] - 154s - loss: 0.4899 - acc: 0.7654 - val_loss: 0.4335 - val_acc: 0.8010\n",
      "Epoch 7/90\n",
      "250/250 [==============================] - 154s - loss: 0.4673 - acc: 0.7794 - val_loss: 0.4441 - val_acc: 0.7840\n",
      "Epoch 8/90\n",
      "250/250 [==============================] - 155s - loss: 0.4508 - acc: 0.7902 - val_loss: 0.4506 - val_acc: 0.7855\n",
      "Epoch 9/90\n",
      "250/250 [==============================] - 156s - loss: 0.4356 - acc: 0.7993 - val_loss: 0.4007 - val_acc: 0.8150\n",
      "Epoch 10/90\n",
      "250/250 [==============================] - 155s - loss: 0.4168 - acc: 0.8115 - val_loss: 0.3776 - val_acc: 0.8280\n",
      "Epoch 11/90\n",
      "250/250 [==============================] - 158s - loss: 0.4065 - acc: 0.8161 - val_loss: 0.4063 - val_acc: 0.8210\n",
      "Epoch 12/90\n",
      "250/250 [==============================] - 155s - loss: 0.3976 - acc: 0.8214 - val_loss: 0.3675 - val_acc: 0.8295\n",
      "Epoch 13/90\n",
      "250/250 [==============================] - 157s - loss: 0.3789 - acc: 0.8337 - val_loss: 0.3769 - val_acc: 0.8245\n",
      "Epoch 14/90\n",
      "250/250 [==============================] - 155s - loss: 0.3713 - acc: 0.8341 - val_loss: 0.3503 - val_acc: 0.8490\n",
      "Epoch 15/90\n",
      "250/250 [==============================] - 155s - loss: 0.3540 - acc: 0.8429 - val_loss: 0.3447 - val_acc: 0.8565\n",
      "Epoch 16/90\n",
      "250/250 [==============================] - 155s - loss: 0.3512 - acc: 0.8438 - val_loss: 0.3669 - val_acc: 0.8370\n",
      "Epoch 17/90\n",
      "250/250 [==============================] - 155s - loss: 0.3454 - acc: 0.8421 - val_loss: 0.3465 - val_acc: 0.8443\n",
      "Epoch 18/90\n",
      "250/250 [==============================] - 156s - loss: 0.3406 - acc: 0.8526 - val_loss: 0.3825 - val_acc: 0.8370\n",
      "Epoch 19/90\n",
      "250/250 [==============================] - 156s - loss: 0.3310 - acc: 0.8534 - val_loss: 0.3632 - val_acc: 0.8305\n",
      "Epoch 20/90\n",
      "250/250 [==============================] - 157s - loss: 0.3238 - acc: 0.8603 - val_loss: 0.3522 - val_acc: 0.8550\n",
      "Epoch 21/90\n",
      "250/250 [==============================] - 158s - loss: 0.3088 - acc: 0.8690 - val_loss: 0.3420 - val_acc: 0.8564\n",
      "Epoch 22/90\n",
      "250/250 [==============================] - 155s - loss: 0.3107 - acc: 0.8690 - val_loss: 0.3704 - val_acc: 0.8530\n",
      "Epoch 23/90\n",
      "250/250 [==============================] - 157s - loss: 0.2997 - acc: 0.8736 - val_loss: 0.3276 - val_acc: 0.8630\n",
      "Epoch 24/90\n",
      "250/250 [==============================] - 157s - loss: 0.2950 - acc: 0.8762 - val_loss: 0.3470 - val_acc: 0.8635\n",
      "Epoch 25/90\n",
      "250/250 [==============================] - 157s - loss: 0.2780 - acc: 0.8806 - val_loss: 0.3638 - val_acc: 0.8548\n",
      "Epoch 26/90\n",
      "250/250 [==============================] - 164s - loss: 0.2896 - acc: 0.8689 - val_loss: 0.3290 - val_acc: 0.8605\n",
      "Epoch 27/90\n",
      "250/250 [==============================] - 165s - loss: 0.2802 - acc: 0.8772 - val_loss: 0.3688 - val_acc: 0.8385\n",
      "Epoch 28/90\n",
      "250/250 [==============================] - 166s - loss: 0.2796 - acc: 0.8788 - val_loss: 0.3208 - val_acc: 0.8735\n",
      "Epoch 29/90\n",
      "250/250 [==============================] - 164s - loss: 0.2659 - acc: 0.8879 - val_loss: 0.3348 - val_acc: 0.8755\n",
      "Epoch 30/90\n",
      "250/250 [==============================] - 165s - loss: 0.2695 - acc: 0.8841 - val_loss: 0.3344 - val_acc: 0.8635\n",
      "Epoch 31/90\n",
      "250/250 [==============================] - 164s - loss: 0.2627 - acc: 0.8918 - val_loss: 0.3382 - val_acc: 0.8745\n",
      "Epoch 32/90\n",
      "250/250 [==============================] - 165s - loss: 0.2506 - acc: 0.8951 - val_loss: 0.3224 - val_acc: 0.8655\n",
      "Epoch 33/90\n",
      "250/250 [==============================] - 165s - loss: 0.2503 - acc: 0.8946 - val_loss: 0.3432 - val_acc: 0.8695\n",
      "Epoch 34/90\n",
      "250/250 [==============================] - 165s - loss: 0.2468 - acc: 0.8969 - val_loss: 0.3232 - val_acc: 0.8725\n",
      "Epoch 35/90\n",
      "250/250 [==============================] - 164s - loss: 0.2423 - acc: 0.8994 - val_loss: 0.3005 - val_acc: 0.8835\n",
      "Epoch 36/90\n",
      "250/250 [==============================] - 167s - loss: 0.2449 - acc: 0.8969 - val_loss: 0.3235 - val_acc: 0.8625\n",
      "Epoch 37/90\n",
      "250/250 [==============================] - 165s - loss: 0.2406 - acc: 0.8996 - val_loss: 0.3266 - val_acc: 0.8674\n",
      "Epoch 38/90\n",
      "250/250 [==============================] - 166s - loss: 0.2405 - acc: 0.9004 - val_loss: 0.3332 - val_acc: 0.8670\n",
      "Epoch 39/90\n",
      "250/250 [==============================] - 164s - loss: 0.2251 - acc: 0.9024 - val_loss: 0.3176 - val_acc: 0.8700\n",
      "Epoch 40/90\n",
      "250/250 [==============================] - 167s - loss: 0.2300 - acc: 0.9066 - val_loss: 0.3599 - val_acc: 0.8625\n",
      "Epoch 41/90\n",
      "250/250 [==============================] - 165s - loss: 0.2263 - acc: 0.9060 - val_loss: 0.3282 - val_acc: 0.8750\n",
      "Epoch 42/90\n",
      "250/250 [==============================] - 169s - loss: 0.2161 - acc: 0.9106 - val_loss: 0.3515 - val_acc: 0.8705\n",
      "Epoch 43/90\n",
      "250/250 [==============================] - 168s - loss: 0.2117 - acc: 0.9089 - val_loss: 0.3513 - val_acc: 0.8765\n",
      "Epoch 44/90\n",
      "250/250 [==============================] - 166s - loss: 0.2164 - acc: 0.9108 - val_loss: 0.3189 - val_acc: 0.8730\n",
      "Epoch 45/90\n",
      "250/250 [==============================] - 165s - loss: 0.2161 - acc: 0.9089 - val_loss: 0.3473 - val_acc: 0.8590\n",
      "Epoch 46/90\n",
      "250/250 [==============================] - 167s - loss: 0.2119 - acc: 0.9119 - val_loss: 0.3223 - val_acc: 0.8750\n",
      "Epoch 47/90\n",
      "250/250 [==============================] - 163s - loss: 0.1954 - acc: 0.9196 - val_loss: 0.3618 - val_acc: 0.8740\n",
      "Epoch 48/90\n",
      "250/250 [==============================] - 159s - loss: 0.2006 - acc: 0.9152 - val_loss: 0.3525 - val_acc: 0.8735\n",
      "Epoch 49/90\n",
      "250/250 [==============================] - 150s - loss: 0.2029 - acc: 0.9131 - val_loss: 0.3328 - val_acc: 0.8670\n",
      "Epoch 50/90\n",
      "250/250 [==============================] - 150s - loss: 0.1960 - acc: 0.9193 - val_loss: 0.3925 - val_acc: 0.8670\n",
      "Epoch 51/90\n",
      "250/250 [==============================] - 151s - loss: 0.2037 - acc: 0.9147 - val_loss: 0.3793 - val_acc: 0.8630\n",
      "Epoch 52/90\n",
      "250/250 [==============================] - 149s - loss: 0.1884 - acc: 0.9221 - val_loss: 0.3725 - val_acc: 0.8665\n",
      "Epoch 53/90\n",
      "250/250 [==============================] - 149s - loss: 0.1961 - acc: 0.9197 - val_loss: 0.3524 - val_acc: 0.8674\n",
      "Epoch 54/90\n",
      "250/250 [==============================] - 150s - loss: 0.1943 - acc: 0.9204 - val_loss: 0.3233 - val_acc: 0.8750\n",
      "Epoch 55/90\n",
      "250/250 [==============================] - 151s - loss: 0.1813 - acc: 0.9250 - val_loss: 0.3265 - val_acc: 0.8755\n",
      "Epoch 56/90\n",
      "250/250 [==============================] - 151s - loss: 0.1890 - acc: 0.9230 - val_loss: 0.3395 - val_acc: 0.8625\n",
      "Epoch 57/90\n",
      "250/250 [==============================] - 150s - loss: 0.1764 - acc: 0.9279 - val_loss: 0.3372 - val_acc: 0.8730\n",
      "Epoch 58/90\n",
      "250/250 [==============================] - 150s - loss: 0.1688 - acc: 0.9311 - val_loss: 0.5106 - val_acc: 0.8370\n",
      "Epoch 59/90\n",
      "250/250 [==============================] - 150s - loss: 0.1952 - acc: 0.9193 - val_loss: 0.3738 - val_acc: 0.8660\n",
      "Epoch 60/90\n",
      "250/250 [==============================] - 151s - loss: 0.1722 - acc: 0.9306 - val_loss: 0.3781 - val_acc: 0.8860\n",
      "Epoch 61/90\n",
      "250/250 [==============================] - 150s - loss: 0.1773 - acc: 0.9283 - val_loss: 0.4123 - val_acc: 0.8625\n",
      "Epoch 62/90\n",
      "250/250 [==============================] - 150s - loss: 0.1722 - acc: 0.9310 - val_loss: 0.3369 - val_acc: 0.8760\n",
      "Epoch 63/90\n",
      "250/250 [==============================] - 152s - loss: 0.1657 - acc: 0.9310 - val_loss: 0.3827 - val_acc: 0.8825\n",
      "Epoch 64/90\n",
      "250/250 [==============================] - 150s - loss: 0.1834 - acc: 0.9265 - val_loss: 0.3478 - val_acc: 0.8775\n",
      "Epoch 65/90\n",
      "250/250 [==============================] - 151s - loss: 0.1694 - acc: 0.9286 - val_loss: 0.3862 - val_acc: 0.8760\n",
      "Epoch 66/90\n"
     ]
    },
    {
     "name": "stdout",
     "output_type": "stream",
     "text": [
      "250/250 [==============================] - 153s - loss: 0.1709 - acc: 0.9296 - val_loss: 0.3630 - val_acc: 0.8670\n",
      "Epoch 67/90\n",
      "250/250 [==============================] - 150s - loss: 0.1681 - acc: 0.9330 - val_loss: 0.3440 - val_acc: 0.8735\n",
      "Epoch 68/90\n",
      "250/250 [==============================] - 150s - loss: 0.1662 - acc: 0.9335 - val_loss: 0.3649 - val_acc: 0.8830\n",
      "Epoch 69/90\n",
      "250/250 [==============================] - 152s - loss: 0.1686 - acc: 0.9316 - val_loss: 0.3930 - val_acc: 0.8805\n",
      "Epoch 70/90\n",
      "250/250 [==============================] - 151s - loss: 0.1562 - acc: 0.9379 - val_loss: 0.5398 - val_acc: 0.8425\n",
      "Epoch 71/90\n",
      "250/250 [==============================] - 150s - loss: 0.1646 - acc: 0.9374 - val_loss: 0.3857 - val_acc: 0.8735\n",
      "Epoch 72/90\n",
      "250/250 [==============================] - 152s - loss: 0.1629 - acc: 0.9331 - val_loss: 0.3977 - val_acc: 0.8675\n",
      "Epoch 73/90\n",
      "250/250 [==============================] - 151s - loss: 0.1602 - acc: 0.9396 - val_loss: 0.3579 - val_acc: 0.8790\n",
      "Epoch 74/90\n",
      "250/250 [==============================] - 150s - loss: 0.1535 - acc: 0.9397 - val_loss: 0.4122 - val_acc: 0.8685\n",
      "Epoch 75/90\n",
      "250/250 [==============================] - 152s - loss: 0.1513 - acc: 0.9405 - val_loss: 0.4265 - val_acc: 0.8720\n",
      "Epoch 76/90\n",
      "250/250 [==============================] - 150s - loss: 0.1580 - acc: 0.9380 - val_loss: 0.3879 - val_acc: 0.8710\n",
      "Epoch 77/90\n",
      "250/250 [==============================] - 150s - loss: 0.1520 - acc: 0.9401 - val_loss: 0.4102 - val_acc: 0.8780\n",
      "Epoch 78/90\n",
      "250/250 [==============================] - 152s - loss: 0.1570 - acc: 0.9376 - val_loss: 0.4007 - val_acc: 0.8660\n",
      "Epoch 79/90\n",
      "250/250 [==============================] - 151s - loss: 0.1474 - acc: 0.9415 - val_loss: 0.4129 - val_acc: 0.8675\n",
      "Epoch 80/90\n",
      "250/250 [==============================] - 152s - loss: 0.1455 - acc: 0.9429 - val_loss: 0.3987 - val_acc: 0.8880\n",
      "Epoch 81/90\n",
      "250/250 [==============================] - 150s - loss: 0.1588 - acc: 0.9359 - val_loss: 0.3885 - val_acc: 0.8740\n",
      "Epoch 82/90\n",
      "250/250 [==============================] - 150s - loss: 0.1387 - acc: 0.9429 - val_loss: 0.4143 - val_acc: 0.8715\n",
      "Epoch 83/90\n",
      "250/250 [==============================] - 152s - loss: 0.1460 - acc: 0.9414 - val_loss: 0.3758 - val_acc: 0.8785\n",
      "Epoch 84/90\n",
      "250/250 [==============================] - 150s - loss: 0.1394 - acc: 0.9452 - val_loss: 0.3928 - val_acc: 0.8715\n",
      "Epoch 85/90\n",
      "250/250 [==============================] - 149s - loss: 0.1458 - acc: 0.9415 - val_loss: 0.3778 - val_acc: 0.8780\n",
      "Epoch 86/90\n",
      "250/250 [==============================] - 150s - loss: 0.1410 - acc: 0.9427 - val_loss: 0.3746 - val_acc: 0.8820\n",
      "Epoch 87/90\n",
      "250/250 [==============================] - 152s - loss: 0.1448 - acc: 0.9416 - val_loss: 0.3995 - val_acc: 0.8775\n",
      "Epoch 88/90\n",
      "250/250 [==============================] - 150s - loss: 0.1300 - acc: 0.9501 - val_loss: 0.4051 - val_acc: 0.8755\n",
      "Epoch 89/90\n",
      "250/250 [==============================] - 152s - loss: 0.1358 - acc: 0.9470 - val_loss: 0.3397 - val_acc: 0.8775\n",
      "Epoch 90/90\n",
      "250/250 [==============================] - 153s - loss: 0.1296 - acc: 0.9447 - val_loss: 0.3851 - val_acc: 0.8745\n"
     ]
    },
    {
     "data": {
      "text/plain": [
       "<keras.callbacks.History at 0x111671048>"
      ]
     },
     "execution_count": 13,
     "metadata": {},
     "output_type": "execute_result"
    }
   ],
   "source": [
    "# Training the CNN Model \n",
    "classifier.fit_generator(training_set,\n",
    "                    steps_per_epoch=8000/batch_size, # Num of samples can be taken as steps\n",
    "                    epochs=90,\n",
    "                    validation_data=test_set,\n",
    "                    validation_steps=2000/ batch_size, # Corresponds to num of samples in the test\n",
    "                    workers = 12,\n",
    "                    max_q_size = 100)"
   ]
  },
  {
   "cell_type": "code",
   "execution_count": 14,
   "metadata": {
    "collapsed": true
   },
   "outputs": [],
   "source": [
    "classifier.save('model_test.h5')\n",
    "import numpy as np\n",
    "from keras.preprocessing import image"
   ]
  },
  {
   "cell_type": "code",
   "execution_count": 21,
   "metadata": {},
   "outputs": [
    {
     "data": {
      "image/png": "[encoded data removed]",
      "text/plain": [
       "<PIL.Image.Image image mode=RGB size=64x64 at 0x112A90080>"
      ]
     },
     "execution_count": 21,
     "metadata": {},
     "output_type": "execute_result"
    }
   ],
   "source": [
    "# Load image\n",
    "test_single_image = image.load_img('dataset/single_prediction/cat_or_dog_1.jpg', target_size=(64,64))\n",
    "test_single_image"
   ]
  },
  {
   "cell_type": "code",
   "execution_count": 22,
   "metadata": {},
   "outputs": [
    {
     "data": {
      "text/plain": [
       "(64, 64, 3)"
      ]
     },
     "execution_count": 22,
     "metadata": {},
     "output_type": "execute_result"
    }
   ],
   "source": [
    "# Converts the Image into an array\n",
    "test_single_image = image.img_to_array(test_single_image)\n",
    "test_single_image.shape"
   ]
  },
  {
   "cell_type": "code",
   "execution_count": 23,
   "metadata": {
    "collapsed": true
   },
   "outputs": [],
   "source": [
    "# Adding a new dimension to the image where axis is the position to specify the index\n",
    "test_single_image = np.expand_dims(test_single_image, axis=0)"
   ]
  },
  {
   "cell_type": "code",
   "execution_count": 24,
   "metadata": {},
   "outputs": [
    {
     "data": {
      "text/plain": [
       "array([[ 1.]], dtype=float32)"
      ]
     },
     "execution_count": 24,
     "metadata": {},
     "output_type": "execute_result"
    }
   ],
   "source": [
    "result = classifier.predict(test_single_image)\n",
    "result"
   ]
  },
  {
   "cell_type": "code",
   "execution_count": 25,
   "metadata": {},
   "outputs": [
    {
     "data": {
      "text/plain": [
       "{'cats': 0, 'dogs': 1}"
      ]
     },
     "execution_count": 25,
     "metadata": {},
     "output_type": "execute_result"
    }
   ],
   "source": [
    "training_set.class_indices"
   ]
  },
  {
   "cell_type": "code",
   "execution_count": 26,
   "metadata": {},
   "outputs": [
    {
     "name": "stdout",
     "output_type": "stream",
     "text": [
      "it is a Dog !! Woof woof\n"
     ]
    }
   ],
   "source": [
    "def res_conversion(val):\n",
    "    if val == 1:\n",
    "        print(\"it is a Dog !! Woof woof\")\n",
    "    else:\n",
    "        print(\"it is a Cat !! meowww\")\n",
    "\n",
    "res_conversion(result[0][0])"
   ]
  },
  {
   "cell_type": "code",
   "execution_count": 27,
   "metadata": {
    "collapsed": true
   },
   "outputs": [],
   "source": [
    "# importing saved model \n",
    "from keras.models import load_model"
   ]
  },
  {
   "cell_type": "code",
   "execution_count": 28,
   "metadata": {
    "collapsed": true
   },
   "outputs": [],
   "source": [
    "# Load pre-trained model\n",
    "model = load_model('model_test.h5')\n",
    "model.compile(loss='binary_crossentropy',\n",
    "             optimizer= 'adam',\n",
    "             metrics=['accuracy'])"
   ]
  },
  {
   "cell_type": "code",
   "execution_count": 29,
   "metadata": {},
   "outputs": [
    {
     "name": "stdout",
     "output_type": "stream",
     "text": [
      "1/1 [==============================] - 0s\n",
      "it is a Dog !! Woof woof\n"
     ]
    }
   ],
   "source": [
    "res_val = model.predict_classes(test_single_image)\n",
    "res_conversion(res_val[0][0])"
   ]
  },
  {
   "cell_type": "code",
   "execution_count": null,
   "metadata": {
    "collapsed": true
   },
   "outputs": [],
   "source": []
  }
 ],
 "metadata": {
  "kernelspec": {
   "display_name": "Python 3",
   "language": "python",
   "name": "python3"
  },
  "language_info": {
   "codemirror_mode": {
    "name": "ipython",
    "version": 3
   },
   "file_extension": ".py",
   "mimetype": "text/x-python",
   "name": "python",
   "nbconvert_exporter": "python",
   "pygments_lexer": "ipython3",
   "version": "3.6.3"
  }
 },
 "nbformat": 4,
 "nbformat_minor": 2
}
